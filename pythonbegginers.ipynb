{
  "nbformat": 4,
  "nbformat_minor": 0,
  "metadata": {
    "colab": {
      "name": "pythonbegginers",
      "provenance": [],
      "collapsed_sections": [],
      "include_colab_link": true
    },
    "kernelspec": {
      "name": "python3",
      "display_name": "Python 3"
    }
  },
  "cells": [
    {
      "cell_type": "markdown",
      "metadata": {
        "id": "view-in-github",
        "colab_type": "text"
      },
      "source": [
        "<a href=\"https://colab.research.google.com/github/kuruvaharshavardhan/python/blob/master/pythonbegginers.ipynb\" target=\"_parent\"><img src=\"https://colab.research.google.com/assets/colab-badge.svg\" alt=\"Open In Colab\"/></a>"
      ]
    },
    {
      "cell_type": "code",
      "metadata": {
        "id": "3zRt-HEOr2of",
        "colab_type": "code",
        "outputId": "8e789273-17e5-479a-cc76-1951692ca80a",
        "colab": {
          "base_uri": "https://localhost:8080/",
          "height": 68
        }
      },
      "source": [
        "c1 = 3+5j\n",
        "c2= 6+7j\n",
        "print(c1+c2)\n",
        "print(c1-c2)\n",
        "print(c1*c2)\n"
      ],
      "execution_count": 0,
      "outputs": [
        {
          "output_type": "stream",
          "text": [
            "(9+12j)\n",
            "(-3-2j)\n",
            "(-17+51j)\n"
          ],
          "name": "stdout"
        }
      ]
    },
    {
      "cell_type": "code",
      "metadata": {
        "id": "SLtoHzggsNGx",
        "colab_type": "code",
        "outputId": "98504b0f-fa08-49b4-fa9c-b52a3b9d6c7c",
        "colab": {
          "base_uri": "https://localhost:8080/",
          "height": 34
        }
      },
      "source": [
        "x=6\n",
        "y=7\n",
        "x < y"
      ],
      "execution_count": 0,
      "outputs": [
        {
          "output_type": "execute_result",
          "data": {
            "text/plain": [
              "True"
            ]
          },
          "metadata": {
            "tags": []
          },
          "execution_count": 2
        }
      ]
    },
    {
      "cell_type": "code",
      "metadata": {
        "id": "v0983IgKsGhB",
        "colab_type": "code",
        "outputId": "d71ea4a3-b16e-4107-efc7-cbb4aa048df7",
        "colab": {
          "base_uri": "https://localhost:8080/",
          "height": 68
        }
      },
      "source": [
        "x=10\n",
        "y=20.98\n",
        "z=3+5j\n",
        "print(type(x))\n",
        "print(type(y))\n",
        "print(type(z))"
      ],
      "execution_count": 0,
      "outputs": [
        {
          "output_type": "stream",
          "text": [
            "<class 'int'>\n",
            "<class 'float'>\n",
            "<class 'complex'>\n"
          ],
          "name": "stdout"
        }
      ]
    },
    {
      "cell_type": "code",
      "metadata": {
        "id": "TLJVsvGEst-J",
        "colab_type": "code",
        "outputId": "af9daf0b-a170-4bd7-db99-841d1d71c93e",
        "colab": {
          "base_uri": "https://localhost:8080/",
          "height": 129
        }
      },
      "source": [
        "# insert site addres\n",
        "[site](https://colab.research.google.com/drive/1HsG5S5pRnRmzHZqqc_sZ96C03YZpiSYk#scrollTo=TLJVsvGEst-J)"
      ],
      "execution_count": 0,
      "outputs": [
        {
          "output_type": "error",
          "ename": "SyntaxError",
          "evalue": "ignored",
          "traceback": [
            "\u001b[0;36m  File \u001b[0;32m\"<ipython-input-5-da4f6f4f45f5>\"\u001b[0;36m, line \u001b[0;32m1\u001b[0m\n\u001b[0;31m    [site](https://colab.research.google.com/drive/1HsG5S5pRnRmzHZqqc_sZ96C03YZpiSYk#scrollTo=TLJVsvGEst-J)\u001b[0m\n\u001b[0m                ^\u001b[0m\n\u001b[0;31mSyntaxError\u001b[0m\u001b[0;31m:\u001b[0m invalid syntax\n"
          ]
        }
      ]
    },
    {
      "cell_type": "code",
      "metadata": {
        "id": "AG31YKOXs-yX",
        "colab_type": "code",
        "colab": {}
      },
      "source": [
        "# insert site addres\n",
        "[site]()"
      ],
      "execution_count": 0,
      "outputs": []
    },
    {
      "cell_type": "markdown",
      "metadata": {
        "id": "FnK5nooOtT0Z",
        "colab_type": "text"
      },
      "source": [
        "# insert site addres\n",
        "[site](https://colab.research.google.com/drive/1HsG5S5pRnRmzHZqqc_sZ96C03YZpiSYk#scrollTo=TLJVsvGEst-J)"
      ]
    },
    {
      "cell_type": "code",
      "metadata": {
        "id": "KirZjkPRsqwF",
        "colab_type": "code",
        "outputId": "12e0bafa-d59a-421e-d532-d92fc56f56f1",
        "colab": {
          "base_uri": "https://localhost:8080/",
          "height": 34
        }
      },
      "source": [
        "s1 = \"abd\"\n",
        "s2 = \"dfg\"\n",
        "print (type(s1),type(s2))"
      ],
      "execution_count": 0,
      "outputs": [
        {
          "output_type": "stream",
          "text": [
            "<class 'str'> <class 'str'>\n"
          ],
          "name": "stdout"
        }
      ]
    },
    {
      "cell_type": "code",
      "metadata": {
        "id": "m9WtwG4atkxV",
        "colab_type": "code",
        "colab": {}
      },
      "source": [
        ""
      ],
      "execution_count": 0,
      "outputs": []
    },
    {
      "cell_type": "markdown",
      "metadata": {
        "id": "IrqkuKXjtu9R",
        "colab_type": "text"
      },
      "source": [
        "# moderndown\n",
        "## modern down"
      ]
    },
    {
      "cell_type": "code",
      "metadata": {
        "id": "Huge1UCit080",
        "colab_type": "code",
        "outputId": "53809102-9f42-4598-fcef-f69abc881398",
        "colab": {
          "base_uri": "https://localhost:8080/",
          "height": 68
        }
      },
      "source": [
        "i= 100\n",
        "print(type(i))\n",
        "s1 = str(i)\n",
        "print(type(s1))\n",
        "f1 = float(i)\n",
        "print(type(f1))"
      ],
      "execution_count": 0,
      "outputs": [
        {
          "output_type": "stream",
          "text": [
            "<class 'int'>\n",
            "<class 'str'>\n",
            "<class 'float'>\n"
          ],
          "name": "stdout"
        }
      ]
    },
    {
      "cell_type": "code",
      "metadata": {
        "id": "c8AAuqxKuWKs",
        "colab_type": "code",
        "outputId": "26afd776-7cac-4f1b-b5f3-e03e160ba561",
        "colab": {
          "base_uri": "https://localhost:8080/",
          "height": 71
        }
      },
      "source": [
        "# insert image\n",
        "![text](data:image/jpeg;base64,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)"
      ],
      "execution_count": 0,
      "outputs": [
        {
          "output_type": "stream",
          "text": [
            "/bin/bash: -c: line 0: syntax error near unexpected token `data:image/jpeg'\n",
            "/bin/bash: -c: line 0: `[text](data:image/jpeg;base64,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)'\n"
          ],
          "name": "stdout"
        }
      ]
    },
    {
      "cell_type": "markdown",
      "metadata": {
        "id": "JJCcJdMJubA5",
        "colab_type": "text"
      },
      "source": [
        ""
      ]
    },
    {
      "cell_type": "code",
      "metadata": {
        "id": "bWIeneIHuqhJ",
        "colab_type": "code",
        "colab": {}
      },
      "source": [
        ""
      ],
      "execution_count": 0,
      "outputs": []
    },
    {
      "cell_type": "markdown",
      "metadata": {
        "id": "YGPoamrNurGZ",
        "colab_type": "text"
      },
      "source": [
        "# insert image\n",
        "![text](data:image/jpeg;base64,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)"
      ]
    },
    {
      "cell_type": "markdown",
      "metadata": {
        "id": "_DERpnwQuZYA",
        "colab_type": "text"
      },
      "source": [
        ""
      ]
    },
    {
      "cell_type": "code",
      "metadata": {
        "id": "1YIlJFbCuyXQ",
        "colab_type": "code",
        "outputId": "71233928-697c-4acc-a04f-05d563bac2bb",
        "colab": {
          "base_uri": "https://localhost:8080/",
          "height": 34
        }
      },
      "source": [
        "# length\n",
        "a = 1234\n",
        "print(len(str(a)))"
      ],
      "execution_count": 0,
      "outputs": [
        {
          "output_type": "stream",
          "text": [
            "4\n"
          ],
          "name": "stdout"
        }
      ]
    },
    {
      "cell_type": "code",
      "metadata": {
        "id": "vmQAu-m3vKLN",
        "colab_type": "code",
        "outputId": "fbaf04c5-9a14-4f73-e615-5434b71bb253",
        "colab": {
          "base_uri": "https://localhost:8080/",
          "height": 68
        }
      },
      "source": [
        "n1= 100 #single variable assignment\n",
        "a=b=c =20 #multiple variable assignment\n",
        "a1 , b1, c1 = 123,234,345\n",
        "print(a1,b1,c1)\n",
        "print(b1,c1,a1)\n",
        "print(a,b,c)"
      ],
      "execution_count": 0,
      "outputs": [
        {
          "output_type": "stream",
          "text": [
            "123 234 345\n",
            "234 345 123\n",
            "20 20 20\n"
          ],
          "name": "stdout"
        }
      ]
    },
    {
      "cell_type": "markdown",
      "metadata": {
        "id": "C1keku5Gw6G4",
        "colab_type": "text"
      },
      "source": [
        "Precedence of the arth operators\n",
        "- paranthesis\n",
        "- power\n",
        "- multiplication\n",
        "- addition"
      ]
    },
    {
      "cell_type": "code",
      "metadata": {
        "id": "vYmXStbexIo4",
        "colab_type": "code",
        "outputId": "47fbe632-94ce-4ea8-e4d9-eec8948be97a",
        "colab": {
          "base_uri": "https://localhost:8080/",
          "height": 34
        }
      },
      "source": [
        "x= 1 +2 ** 3 /4 + 5\n",
        "print(x)"
      ],
      "execution_count": 0,
      "outputs": [
        {
          "output_type": "stream",
          "text": [
            "8.0\n"
          ],
          "name": "stdout"
        }
      ]
    },
    {
      "cell_type": "code",
      "metadata": {
        "id": "ISAccm5Lxted",
        "colab_type": "code",
        "outputId": "163d6a2d-d1c5-4485-bf87-a1bd3f7d05cc",
        "colab": {
          "base_uri": "https://localhost:8080/",
          "height": 34
        }
      },
      "source": [
        "y= 2 *3 /5 +27 *5 **3\n",
        "print(y)"
      ],
      "execution_count": 0,
      "outputs": [
        {
          "output_type": "stream",
          "text": [
            "3376.2\n"
          ],
          "name": "stdout"
        }
      ]
    },
    {
      "cell_type": "markdown",
      "metadata": {
        "id": "8ut3DpI_zXzq",
        "colab_type": "text"
      },
      "source": [
        "#operators\n",
        "\n",
        "## arthemetic operators\n",
        "- +\n",
        "- -\n",
        "- /\n",
        "- %\n",
        "- *\n",
        "- //\n",
        "- **"
      ]
    },
    {
      "cell_type": "code",
      "metadata": {
        "id": "Mf3vHBNuzxkE",
        "colab_type": "code",
        "outputId": "d77e464c-7198-42ff-b307-63344a350b7f",
        "colab": {
          "base_uri": "https://localhost:8080/",
          "height": 34
        }
      },
      "source": [
        "x=20\n",
        "y=10\n",
        "x//y"
      ],
      "execution_count": 0,
      "outputs": [
        {
          "output_type": "execute_result",
          "data": {
            "text/plain": [
              "2"
            ]
          },
          "metadata": {
            "tags": []
          },
          "execution_count": 15
        }
      ]
    },
    {
      "cell_type": "code",
      "metadata": {
        "id": "DESQmFSTz2oc",
        "colab_type": "code",
        "outputId": "f664b6b4-0bd5-42eb-aa31-e733983cd832",
        "colab": {
          "base_uri": "https://localhost:8080/",
          "height": 34
        }
      },
      "source": [
        "2 ** 3"
      ],
      "execution_count": 0,
      "outputs": [
        {
          "output_type": "execute_result",
          "data": {
            "text/plain": [
              "8"
            ]
          },
          "metadata": {
            "tags": []
          },
          "execution_count": 16
        }
      ]
    },
    {
      "cell_type": "code",
      "metadata": {
        "id": "p4zdG5mj0NBE",
        "colab_type": "code",
        "outputId": "441a19e0-e988-4c48-a693-99ad96543785",
        "colab": {
          "base_uri": "https://localhost:8080/",
          "height": 34
        }
      },
      "source": [
        "x=30\n",
        "y=40\n",
        "x//y\n"
      ],
      "execution_count": 0,
      "outputs": [
        {
          "output_type": "execute_result",
          "data": {
            "text/plain": [
              "0"
            ]
          },
          "metadata": {
            "tags": []
          },
          "execution_count": 17
        }
      ]
    },
    {
      "cell_type": "markdown",
      "metadata": {
        "id": "mww-etoI06o6",
        "colab_type": "text"
      },
      "source": [
        "# Relational Operators\n",
        "- ==\n",
        "- !=\n",
        "- <\n",
        "- >\n",
        "- <=\n",
        "- >=\n"
      ]
    },
    {
      "cell_type": "code",
      "metadata": {
        "id": "tkIt7WnH8CMW",
        "colab_type": "code",
        "colab": {}
      },
      "source": [
        ""
      ],
      "execution_count": 0,
      "outputs": []
    },
    {
      "cell_type": "markdown",
      "metadata": {
        "id": "8ROg2bFU6sg-",
        "colab_type": "text"
      },
      "source": [
        "#membership operation\n",
        "\n"
      ]
    },
    {
      "cell_type": "code",
      "metadata": {
        "id": "hoGd80Q11yI7",
        "colab_type": "code",
        "outputId": "f0ce62e5-f6cf-4d73-b136-acab610ee5ca",
        "colab": {
          "base_uri": "https://localhost:8080/",
          "height": 51
        }
      },
      "source": [
        "str1 = \"abc\"\n",
        "print('a' in str1)\n",
        "print('a' not in str1)"
      ],
      "execution_count": 0,
      "outputs": [
        {
          "output_type": "stream",
          "text": [
            "True\n",
            "False\n"
          ],
          "name": "stdout"
        }
      ]
    },
    {
      "cell_type": "markdown",
      "metadata": {
        "id": "-gwlkkNW6zcy",
        "colab_type": "text"
      },
      "source": [
        "# control flow statements\n",
        "- conditonal statements\n",
        "- looping statements\n",
        "- if-else statements\n",
        "    - syntax\n",
        "    #### if condition:\n",
        "    > statement<br>\n",
        "    ##### else:\n",
        "    > statements:\n"
      ]
    },
    {
      "cell_type": "code",
      "metadata": {
        "id": "t4M4_B_E7Foe",
        "colab_type": "code",
        "outputId": "2f615ebf-ba6b-4137-9eee-098a5c1cc698",
        "colab": {
          "base_uri": "https://localhost:8080/",
          "height": 51
        }
      },
      "source": [
        "# check given number is even or odd\n",
        "n=int(input(\"enter any number\"))\n",
        "if n%2==0:\n",
        "    print(\"even\")\n",
        "else:\n",
        "    print(\"odd\")"
      ],
      "execution_count": 0,
      "outputs": [
        {
          "output_type": "stream",
          "text": [
            "enter any number52\n",
            "even\n"
          ],
          "name": "stdout"
        }
      ]
    },
    {
      "cell_type": "code",
      "metadata": {
        "id": "O1NSQmre9P_y",
        "colab_type": "code",
        "outputId": "9829d9b1-81bb-44a2-c59d-3f54d384c3a6",
        "colab": {
          "base_uri": "https://localhost:8080/",
          "height": 51
        }
      },
      "source": [
        "# check given number is perfectly multiple of 3 and 5\n",
        "n=int(input(\"enter any number\"))\n",
        "if n%3==0 and n%5==0:\n",
        "    print(\"yes\")\n",
        "else:\n",
        "    print(\"no\")"
      ],
      "execution_count": 0,
      "outputs": [
        {
          "output_type": "stream",
          "text": [
            "enter any number15\n",
            "yes\n"
          ],
          "name": "stdout"
        }
      ]
    },
    {
      "cell_type": "code",
      "metadata": {
        "id": "8TakHfex-376",
        "colab_type": "code",
        "outputId": "ca60fa6f-9665-40a0-c49e-b89a29f00b38",
        "colab": {
          "base_uri": "https://localhost:8080/",
          "height": 51
        }
      },
      "source": [
        "# check given number is perfectly multiple of 3 and 5\n",
        "n=int(input(\"enter any number\"))\n",
        "if n%3==0 and n%5==0:\n",
        "    print(\"yes\")\n",
        "else:\n",
        "    print(\"no\")\n"
      ],
      "execution_count": 0,
      "outputs": [
        {
          "output_type": "stream",
          "text": [
            "enter any number10\n",
            "no\n"
          ],
          "name": "stdout"
        }
      ]
    },
    {
      "cell_type": "code",
      "metadata": {
        "id": "34MvwsT7_ybF",
        "colab_type": "code",
        "outputId": "7b265dd3-aff2-4ea0-e130-56e598a7ee6d",
        "colab": {
          "base_uri": "https://localhost:8080/",
          "height": 51
        }
      },
      "source": [
        "# check whether the given number is positive negative or zero\n",
        "n=int(input(\"enter any number\"))\n",
        "if n > 0: \n",
        "    print(\"positive\")\n",
        "elif n<0:\n",
        "    print(\"negative\")\n",
        "else: \n",
        "  print(\"zero\")"
      ],
      "execution_count": 0,
      "outputs": [
        {
          "output_type": "stream",
          "text": [
            "enter any number15\n",
            "positive\n"
          ],
          "name": "stdout"
        }
      ]
    },
    {
      "cell_type": "code",
      "metadata": {
        "id": "Mxs07qYjAo0k",
        "colab_type": "code",
        "colab": {}
      },
      "source": [
        ""
      ],
      "execution_count": 0,
      "outputs": []
    }
  ]
}