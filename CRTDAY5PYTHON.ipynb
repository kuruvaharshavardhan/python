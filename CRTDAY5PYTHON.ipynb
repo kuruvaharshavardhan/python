{
  "nbformat": 4,
  "nbformat_minor": 0,
  "metadata": {
    "colab": {
      "name": "CRTDAY5PYTHON",
      "provenance": [],
      "collapsed_sections": [],
      "include_colab_link": true
    },
    "kernelspec": {
      "name": "python3",
      "display_name": "Python 3"
    }
  },
  "cells": [
    {
      "cell_type": "markdown",
      "metadata": {
        "id": "view-in-github",
        "colab_type": "text"
      },
      "source": [
        "<a href=\"https://colab.research.google.com/github/kuruvaharshavardhan/python/blob/master/CRTDAY5PYTHON.ipynb\" target=\"_parent\"><img src=\"https://colab.research.google.com/assets/colab-badge.svg\" alt=\"Open In Colab\"/></a>"
      ]
    },
    {
      "cell_type": "code",
      "metadata": {
        "id": "mWz4sOP3AUx8",
        "colab_type": "code",
        "colab": {
          "base_uri": "https://localhost:8080/",
          "height": 51
        },
        "outputId": "88b73072-903d-49d2-e1fa-94dd07e48110"
      },
      "source": [
        "# CHECK INPUT NUMBER IS LEAP YEAR OR NOT\n",
        "n=int(input(\"enter a year\"))\n",
        "if n % 4 == 0 and n % 100 == 0 and n % 400 == 0:\n",
        "       print(\"it is a leap year\")\n",
        "else:\n",
        "      print(\"it is not a leap year\")\n",
        "      "
      ],
      "execution_count": 1,
      "outputs": [
        {
          "output_type": "stream",
          "text": [
            "enter a year2019\n",
            "it is not a leap year\n"
          ],
          "name": "stdout"
        }
      ]
    },
    {
      "cell_type": "code",
      "metadata": {
        "id": "HGNiUgt9ECRK",
        "colab_type": "code",
        "colab": {
          "base_uri": "https://localhost:8080/",
          "height": 51
        },
        "outputId": "03c0a334-3a03-4406-d0f5-6db7fd09ec18"
      },
      "source": [
        "# CHECK INPUT NUMBER IS LEAP YEAR OR NOT\n",
        "n=int(input(\"enter a year\"))\n",
        "if n % 4 == 0 and n % 100 == 0 and n % 400 == 0:\n",
        "       print(\"it is a leap year\")\n",
        "else:\n",
        "      print(\"it is not a leap year\")\n",
        "      "
      ],
      "execution_count": 5,
      "outputs": [
        {
          "output_type": "stream",
          "text": [
            "enter a year2023\n",
            "it is not a leap year\n"
          ],
          "name": "stdout"
        }
      ]
    },
    {
      "cell_type": "code",
      "metadata": {
        "id": "kuxRhtcaEOPN",
        "colab_type": "code",
        "colab": {
          "base_uri": "https://localhost:8080/",
          "height": 85
        },
        "outputId": "f506159c-503b-49c7-c4a0-3f7363042454"
      },
      "source": [
        "# check the largest one among three numbers\n",
        "\n",
        "a=int(input(\"enter a value\"))\n",
        "b=int(input(\"enter b value\"))\n",
        "c=int(input(\"enter c value\"))\n",
        "if a > b and a > c:\n",
        "  print(\"a is greater\")\n",
        "elif b > a and b > c:\n",
        "  print(\"b is greater\")\n",
        "else:\n",
        "  print(\"c is greater\")"
      ],
      "execution_count": 9,
      "outputs": [
        {
          "output_type": "stream",
          "text": [
            "enter a value12\n",
            "enter b value21\n",
            "enter c value9\n",
            "b is greater\n"
          ],
          "name": "stdout"
        }
      ]
    },
    {
      "cell_type": "markdown",
      "metadata": {
        "id": "7pX12mrqHqFZ",
        "colab_type": "text"
      },
      "source": [
        "# while loop\n",
        "syntax:\n",
        " #### while Boolean condition: <br>\n",
        "      statement <br>\n",
        "      increment/decrement "
      ]
    },
    {
      "cell_type": "code",
      "metadata": {
        "id": "B-UvyXUWHupA",
        "colab_type": "code",
        "colab": {
          "base_uri": "https://localhost:8080/",
          "height": 119
        },
        "outputId": "6722b219-a1d4-4761-89c3-01e1531310dc"
      },
      "source": [
        "# need to print harsha as six times\n",
        "\n",
        "n = 0\n",
        "while (n <= 5):\n",
        "   print(\"harsha\")\n",
        "   n = n +1\n",
        "\n"
      ],
      "execution_count": 17,
      "outputs": [
        {
          "output_type": "stream",
          "text": [
            "harsha\n",
            "harsha\n",
            "harsha\n",
            "harsha\n",
            "harsha\n",
            "harsha\n"
          ],
          "name": "stdout"
        }
      ]
    },
    {
      "cell_type": "code",
      "metadata": {
        "id": "VSlPNYmFIv4p",
        "colab_type": "code",
        "colab": {
          "base_uri": "https://localhost:8080/",
          "height": 129
        },
        "outputId": "ea64dbf8-c1be-461a-e3a0-3d8855dc27d5"
      },
      "source": [
        "# input: 10\n",
        "output : 1 2 3 4 5 6 7 8 9 10"
      ],
      "execution_count": 18,
      "outputs": [
        {
          "output_type": "error",
          "ename": "SyntaxError",
          "evalue": "ignored",
          "traceback": [
            "\u001b[0;36m  File \u001b[0;32m\"<ipython-input-18-e0d7de284d0d>\"\u001b[0;36m, line \u001b[0;32m1\u001b[0m\n\u001b[0;31m    output : 1 2 3 4 5 6 7 8 9 10\u001b[0m\n\u001b[0m               ^\u001b[0m\n\u001b[0;31mSyntaxError\u001b[0m\u001b[0;31m:\u001b[0m invalid syntax\n"
          ]
        }
      ]
    },
    {
      "cell_type": "code",
      "metadata": {
        "id": "bpi0YoklKrHc",
        "colab_type": "code",
        "colab": {
          "base_uri": "https://localhost:8080/",
          "height": 68
        },
        "outputId": "9eab2501-3ead-46ea-822a-a6eefadcd80e"
      },
      "source": [
        "n=int(input(\"enter n value\"))\n",
        "while(n<=10):\n",
        "   print(\"n\")\n",
        "   n= n+1"
      ],
      "execution_count": 24,
      "outputs": [
        {
          "output_type": "stream",
          "text": [
            "enter n value9\n",
            "n\n",
            "n\n"
          ],
          "name": "stdout"
        }
      ]
    },
    {
      "cell_type": "code",
      "metadata": {
        "id": "_36SqXMlK0C0",
        "colab_type": "code",
        "colab": {
          "base_uri": "https://localhost:8080/",
          "height": 204
        },
        "outputId": "a920e024-46d7-4b97-b8c5-6014a99442c3"
      },
      "source": [
        "n=int(input(\"enter n value\"))\n",
        "n=1\n",
        "while(n<=10):\n",
        "   print(n)\n",
        "   n= n+1\n"
      ],
      "execution_count": 28,
      "outputs": [
        {
          "output_type": "stream",
          "text": [
            "enter n value10\n",
            "1\n",
            "2\n",
            "3\n",
            "4\n",
            "5\n",
            "6\n",
            "7\n",
            "8\n",
            "9\n",
            "10\n"
          ],
          "name": "stdout"
        }
      ]
    },
    {
      "cell_type": "code",
      "metadata": {
        "id": "28EoPhyyLYhs",
        "colab_type": "code",
        "colab": {
          "base_uri": "https://localhost:8080/",
          "height": 51
        },
        "outputId": "a8a8ff54-5514-4f23-f10a-0621f40670f5"
      },
      "source": [
        "#input = 10\n",
        "#output =30(2+4+6+8+10=30)\n",
        "\n",
        "\n",
        "n =int(input(\"enter number\"))\n",
        "n=1\n",
        "sum=0\n",
        "while(n<=10):\n",
        "  if(n%2==0):\n",
        "       sum= sum+n\n",
        "  n=n+1\n",
        "print(sum)"
      ],
      "execution_count": 30,
      "outputs": [
        {
          "output_type": "stream",
          "text": [
            "enter number10\n",
            "30\n"
          ],
          "name": "stdout"
        }
      ]
    },
    {
      "cell_type": "code",
      "metadata": {
        "id": "sBhT5amlOHVT",
        "colab_type": "code",
        "colab": {}
      },
      "source": [
        ""
      ],
      "execution_count": 0,
      "outputs": []
    }
  ]
}