{
  "nbformat": 4,
  "nbformat_minor": 0,
  "metadata": {
    "colab": {
      "name": "day8 C programming",
      "provenance": [],
      "collapsed_sections": [],
      "include_colab_link": true
    },
    "kernelspec": {
      "name": "python3",
      "display_name": "Python 3"
    }
  },
  "cells": [
    {
      "cell_type": "markdown",
      "metadata": {
        "id": "view-in-github",
        "colab_type": "text"
      },
      "source": [
        "<a href=\"https://colab.research.google.com/github/kuruvaharshavardhan/python/blob/master/day8_basic%20_C_programming.ipynb\" target=\"_parent\"><img src=\"https://colab.research.google.com/assets/colab-badge.svg\" alt=\"Open In Colab\"/></a>"
      ]
    },
    {
      "cell_type": "code",
      "metadata": {
        "id": "6Rmw-3ADUllQ",
        "colab_type": "code",
        "colab": {}
      },
      "source": [
        "#include <stdio.h>\n",
        "\n",
        "void main()\n",
        "{\n",
        "   printf(\"abcd\\\\xyz\");\n",
        "}\n"
      ],
      "execution_count": 0,
      "outputs": []
    },
    {
      "cell_type": "code",
      "metadata": {
        "id": "wz7Sjz78Vqz8",
        "colab_type": "code",
        "colab": {}
      },
      "source": [
        "#include <stdio.h>\n",
        "\n",
        "void main()\n",
        "{\n",
        "    int i = 29;\n",
        "   printf(\"%o\",i);\n",
        "}"
      ],
      "execution_count": 0,
      "outputs": []
    },
    {
      "cell_type": "code",
      "metadata": {
        "id": "F9u6q8wniMxO",
        "colab_type": "code",
        "colab": {}
      },
      "source": [
        ""
      ],
      "execution_count": 0,
      "outputs": []
    },
    {
      "cell_type": "code",
      "metadata": {
        "id": "gl5O_K91iUI4",
        "colab_type": "code",
        "colab": {}
      },
      "source": [
        "\n",
        "\n",
        "#include <stdio.h>\n",
        "\n",
        "void main()\n",
        "{\n",
        "   int a=5,b=7,c;\n",
        "   c=b||++a;\n",
        "   printf(\"%d\",a);\n",
        "}"
      ],
      "execution_count": 0,
      "outputs": []
    },
    {
      "cell_type": "code",
      "metadata": {
        "id": "Ix3i55e3iXVI",
        "colab_type": "code",
        "colab": {}
      },
      "source": [
        ""
      ],
      "execution_count": 0,
      "outputs": []
    }
  ]
}