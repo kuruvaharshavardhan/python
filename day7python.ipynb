{
  "nbformat": 4,
  "nbformat_minor": 0,
  "metadata": {
    "colab": {
      "name": "day7python",
      "provenance": [],
      "collapsed_sections": [],
      "include_colab_link": true
    },
    "kernelspec": {
      "name": "python3",
      "display_name": "Python 3"
    }
  },
  "cells": [
    {
      "cell_type": "markdown",
      "metadata": {
        "id": "view-in-github",
        "colab_type": "text"
      },
      "source": [
        "<a href=\"https://colab.research.google.com/github/kuruvaharshavardhan/python/blob/master/day7python.ipynb\" target=\"_parent\"><img src=\"https://colab.research.google.com/assets/colab-badge.svg\" alt=\"Open In Colab\"/></a>"
      ]
    },
    {
      "cell_type": "markdown",
      "metadata": {
        "id": "n8wU-rsiB_o5",
        "colab_type": "text"
      },
      "source": [
        "# collection of data structure types:\n",
        "\n",
        "#### 1.List\n",
        "\n",
        "#### 2.Tuple\n",
        "\n",
        "#### 3.set\n",
        "\n",
        "#### 4.dictinary"
      ]
    },
    {
      "cell_type": "markdown",
      "metadata": {
        "id": "1LiY1xZLCfZ-",
        "colab_type": "text"
      },
      "source": [
        "# List\n",
        "\n",
        "- one of the data tsructures in python\n",
        "- data structure means to store,sortand search options \n",
        "- Its one data structure iin python, the Item of list represented by comma and enclosed by square brackets\n"
      ]
    },
    {
      "cell_type": "code",
      "metadata": {
        "id": "abhBljU5ED7m",
        "colab_type": "code",
        "colab": {
          "base_uri": "https://localhost:8080/",
          "height": 119
        },
        "outputId": "6cc43d15-97d1-4c7f-bf57-403e6aaac462"
      },
      "source": [
        "li = [1,8,16,9,2]\n",
        "print(li)\n",
        "print(li[2])\n",
        "print(li[-3])\n",
        "print(li[2:])\n",
        "print(li[2:4])\n",
        "print(li[-4:-3])"
      ],
      "execution_count": 7,
      "outputs": [
        {
          "output_type": "stream",
          "text": [
            "[1, 8, 16, 9, 2]\n",
            "16\n",
            "16\n",
            "[16, 9, 2]\n",
            "[16, 9]\n",
            "[8]\n"
          ],
          "name": "stdout"
        }
      ]
    },
    {
      "cell_type": "code",
      "metadata": {
        "id": "sxSJhYumEcFw",
        "colab_type": "code",
        "colab": {
          "base_uri": "https://localhost:8080/",
          "height": 119
        },
        "outputId": "db6c7312-dd83-451c-c2a2-874d268e9fd2"
      },
      "source": [
        "li = [1,8,16,9,2]\n",
        "print(li)\n",
        "print(li[2])\n",
        "print(li[-3])\n",
        "print(li[2:])\n",
        "print(li[2:4])\n",
        "print(li[-3:-1])"
      ],
      "execution_count": 6,
      "outputs": [
        {
          "output_type": "stream",
          "text": [
            "[1, 8, 16, 9, 2]\n",
            "16\n",
            "16\n",
            "[16, 9, 2]\n",
            "[16, 9]\n",
            "[16, 9]\n"
          ],
          "name": "stdout"
        }
      ]
    },
    {
      "cell_type": "code",
      "metadata": {
        "id": "udTQGco2FsCE",
        "colab_type": "code",
        "colab": {
          "base_uri": "https://localhost:8080/",
          "height": 51
        },
        "outputId": "5aad9cb7-1fbf-4f59-fee8-9e975d57a98c"
      },
      "source": [
        "li = [\"gitam\",1234,1235,1236,\"hyderabad\"]\n",
        "print(li)\n",
        "print(li[0][2])"
      ],
      "execution_count": 10,
      "outputs": [
        {
          "output_type": "stream",
          "text": [
            "['gitam', 1234, 1235, 1236, 'hyderabad']\n",
            "t\n"
          ],
          "name": "stdout"
        }
      ]
    },
    {
      "cell_type": "code",
      "metadata": {
        "id": "2PKNiiJSHoR-",
        "colab_type": "code",
        "colab": {
          "base_uri": "https://localhost:8080/",
          "height": 34
        },
        "outputId": "cc6ddab9-9d17-40ba-a7f6-67c7f46d996d"
      },
      "source": [
        "del li[3]\n",
        "print(li)"
      ],
      "execution_count": 11,
      "outputs": [
        {
          "output_type": "stream",
          "text": [
            "['gitam', 1234, 1235, 'hyderabad']\n"
          ],
          "name": "stdout"
        }
      ]
    },
    {
      "cell_type": "code",
      "metadata": {
        "id": "DMrT5KgLIWfV",
        "colab_type": "code",
        "colab": {
          "base_uri": "https://localhost:8080/",
          "height": 34
        },
        "outputId": "4a047856-b702-400b-dc40-1ec44ea7ec58"
      },
      "source": [
        "# update\n",
        "\n",
        "li[1]= \"harsha\"\n",
        "print(li)"
      ],
      "execution_count": 14,
      "outputs": [
        {
          "output_type": "stream",
          "text": [
            "['gitam', 'harsha', 1235, 'hyderabad']\n"
          ],
          "name": "stdout"
        }
      ]
    },
    {
      "cell_type": "code",
      "metadata": {
        "id": "s8u712kSIhDd",
        "colab_type": "code",
        "colab": {
          "base_uri": "https://localhost:8080/",
          "height": 102
        },
        "outputId": "bec10d2c-a2dc-480f-b2b8-1c38e1c2ceca"
      },
      "source": [
        "#pasic list functions\n",
        "\n",
        "li = [1,9,116,25,6]\n",
        "print(max(li))\n",
        "print(min(li))\n",
        "print(sum(li))\n",
        "print(len(li))\n",
        "print(sum(li)//len(li))"
      ],
      "execution_count": 20,
      "outputs": [
        {
          "output_type": "stream",
          "text": [
            "116\n",
            "1\n",
            "157\n",
            "5\n",
            "31\n"
          ],
          "name": "stdout"
        }
      ]
    },
    {
      "cell_type": "code",
      "metadata": {
        "id": "Kxu6fKkHJ8lS",
        "colab_type": "code",
        "colab": {
          "base_uri": "https://localhost:8080/",
          "height": 136
        },
        "outputId": "f2c0d9ac-5eba-4eb2-b868-678602c68e25"
      },
      "source": [
        "li = [1,9,116,25,6]\n",
        "li.append(89)\n",
        "print(li)\n",
        "li.insert(2,56)\n",
        "print(li)\n",
        "print(li.count(9))\n",
        "li.index(25)\n",
        "print(li)\n",
        "li.sort()\n",
        "print(li)\n",
        "li.pop()\n",
        "print(li)\n",
        "li.pop(1)\n",
        "print(li)"
      ],
      "execution_count": 33,
      "outputs": [
        {
          "output_type": "stream",
          "text": [
            "[1, 9, 116, 25, 6, 89]\n",
            "[1, 9, 56, 116, 25, 6, 89]\n",
            "1\n",
            "[1, 9, 56, 116, 25, 6, 89]\n",
            "[1, 6, 9, 25, 56, 89, 116]\n",
            "[1, 6, 9, 25, 56, 89]\n",
            "[1, 9, 25, 56, 89]\n"
          ],
          "name": "stdout"
        }
      ]
    },
    {
      "cell_type": "code",
      "metadata": {
        "id": "pXJHM4FsMdBa",
        "colab_type": "code",
        "colab": {
          "base_uri": "https://localhost:8080/",
          "height": 34
        },
        "outputId": "2fcfff8c-4970-4b5b-d727-e1d7c5b21cd1"
      },
      "source": [
        "l=[1,1,2,5,78]\n",
        "print(l.count(2))"
      ],
      "execution_count": 31,
      "outputs": [
        {
          "output_type": "stream",
          "text": [
            "1\n"
          ],
          "name": "stdout"
        }
      ]
    },
    {
      "cell_type": "code",
      "metadata": {
        "id": "nv-PxrjmOFtX",
        "colab_type": "code",
        "colab": {
          "base_uri": "https://localhost:8080/",
          "height": 51
        },
        "outputId": "2af53e69-442d-4bef-ce0b-f989f32ac396"
      },
      "source": [
        "li =  [1,9,116,25,5,9]\n",
        "li1 = [76,78,79]\n",
        "li.extend(li1)  \n",
        "print(li)\n",
        "li.reverse()\n",
        "print(li)"
      ],
      "execution_count": 37,
      "outputs": [
        {
          "output_type": "stream",
          "text": [
            "[1, 9, 116, 25, 5, 9, 76, 78, 79]\n",
            "[79, 78, 76, 9, 5, 25, 116, 9, 1]\n"
          ],
          "name": "stdout"
        }
      ]
    },
    {
      "cell_type": "code",
      "metadata": {
        "id": "BwVShNfDPCuV",
        "colab_type": "code",
        "colab": {
          "base_uri": "https://localhost:8080/",
          "height": 51
        },
        "outputId": "9fee6f3b-cb0a-41a1-c8a5-9506608b43d9"
      },
      "source": [
        "# function to return the largest number from \n",
        "def largestnumber(li):\n",
        "    li.sort()\n",
        "    return li[-1]\n",
        "def genericlarge(li,n):\n",
        "    li.sort()\n",
        "    return li[-n]\n",
        "li = [19,1,25,45,76]\n",
        "print(largestnumber(li))\n",
        "print(genericlarge(li,3))"
      ],
      "execution_count": 38,
      "outputs": [
        {
          "output_type": "stream",
          "text": [
            "76\n",
            "25\n"
          ],
          "name": "stdout"
        }
      ]
    },
    {
      "cell_type": "code",
      "metadata": {
        "id": "cAMpcE6BRUVr",
        "colab_type": "code",
        "colab": {
          "base_uri": "https://localhost:8080/",
          "height": 51
        },
        "outputId": "47723350-0f15-4afa-e752-88cba803590c"
      },
      "source": [
        "def smallestnumber(li):\n",
        "    li.sort()\n",
        "    return li[0]\n",
        "def genericsmall(li,n):\n",
        "    li.sort()\n",
        "    return li[n]\n",
        "li = [19,1,25,45,76]\n",
        "print(smallestnumber(li))\n",
        "print(genericsmall(li,3))"
      ],
      "execution_count": 40,
      "outputs": [
        {
          "output_type": "stream",
          "text": [
            "1\n",
            "45\n"
          ],
          "name": "stdout"
        }
      ]
    },
    {
      "cell_type": "markdown",
      "metadata": {
        "id": "iHb0HIq5SZ8j",
        "colab_type": "text"
      },
      "source": [
        "# TUPLE \n",
        "-  its one common data structure in python the items of tupe seperated by comma and enclosed by paranthesis ()\n",
        "\n",
        "#### Example-\n",
        "- if= (1,2,3,4)\n",
        "\n",
        "# list and tuple\n",
        "\n",
        "- in list they are mutable - can be changed/modified\n",
        "- list used to modify,add,delete,update\n",
        "- tuples are immutable - cannot be changed \n",
        "- tuple used acess the data only\n"
      ]
    },
    {
      "cell_type": "markdown",
      "metadata": {
        "id": "kI-6r-gcUPWJ",
        "colab_type": "text"
      },
      "source": [
        "# Dictionary\n",
        "\n",
        "1. it works on concep of set unique data\n",
        "2. dictionary contains keys and values\n",
        "3.each key  and value seperaeted by comma\n",
        "4.each key is seprated from its values and colon (:)"
      ]
    },
    {
      "cell_type": "code",
      "metadata": {
        "id": "sfsyIBZAUSwM",
        "colab_type": "code",
        "colab": {
          "base_uri": "https://localhost:8080/",
          "height": 34
        },
        "outputId": "2005298c-7815-49cf-a9fc-4f94bd9dd1e6"
      },
      "source": [
        "d1= {\"name\":\"gitam\",\"email\": \"gitam@in\", \"address\":\"hyderabad\"}\n",
        "d1['name']"
      ],
      "execution_count": 56,
      "outputs": [
        {
          "output_type": "execute_result",
          "data": {
            "text/plain": [
              "'gitam'"
            ]
          },
          "metadata": {
            "tags": []
          },
          "execution_count": 56
        }
      ]
    },
    {
      "cell_type": "code",
      "metadata": {
        "id": "sHw0ZXL_bQpJ",
        "colab_type": "code",
        "colab": {}
      },
      "source": [
        "d1= {\"name\":\"gitam\",\"email\": \"gitam@in\", \"address\":\"hyderabad\"}\n",
        "d1['name'] : 'harsha'"
      ],
      "execution_count": 0,
      "outputs": []
    },
    {
      "cell_type": "code",
      "metadata": {
        "id": "wXykx1tYWMF5",
        "colab_type": "code",
        "colab": {
          "base_uri": "https://localhost:8080/",
          "height": 34
        },
        "outputId": "7510b764-e562-464d-dd9c-d95eba51577d"
      },
      "source": [
        "d1['roll_no'] ='221710311033'\n",
        "d1"
      ],
      "execution_count": 67,
      "outputs": [
        {
          "output_type": "execute_result",
          "data": {
            "text/plain": [
              "{'address': 'hyderabad', 'name': 'gitam', 'roll_no': '221710311033'}"
            ]
          },
          "metadata": {
            "tags": []
          },
          "execution_count": 67
        }
      ]
    },
    {
      "cell_type": "code",
      "metadata": {
        "id": "xVmeDLyjao7I",
        "colab_type": "code",
        "colab": {
          "base_uri": "https://localhost:8080/",
          "height": 180
        },
        "outputId": "e626a80e-d33b-4775-fd44-82b26a794bb7"
      },
      "source": [
        "del d1['email'] \n",
        "d1"
      ],
      "execution_count": 70,
      "outputs": [
        {
          "output_type": "error",
          "ename": "KeyError",
          "evalue": "ignored",
          "traceback": [
            "\u001b[0;31m---------------------------------------------------------------------------\u001b[0m",
            "\u001b[0;31mKeyError\u001b[0m                                  Traceback (most recent call last)",
            "\u001b[0;32m<ipython-input-70-b964427757ef>\u001b[0m in \u001b[0;36m<module>\u001b[0;34m()\u001b[0m\n\u001b[0;32m----> 1\u001b[0;31m \u001b[0;32mdel\u001b[0m \u001b[0md1\u001b[0m\u001b[0;34m[\u001b[0m\u001b[0;34m'email'\u001b[0m\u001b[0;34m]\u001b[0m\u001b[0;34m\u001b[0m\u001b[0;34m\u001b[0m\u001b[0m\n\u001b[0m\u001b[1;32m      2\u001b[0m \u001b[0md1\u001b[0m\u001b[0;34m\u001b[0m\u001b[0;34m\u001b[0m\u001b[0m\n",
            "\u001b[0;31mKeyError\u001b[0m: 'email'"
          ]
        }
      ]
    },
    {
      "cell_type": "code",
      "metadata": {
        "id": "quggpTpKbXJt",
        "colab_type": "code",
        "colab": {
          "base_uri": "https://localhost:8080/",
          "height": 34
        },
        "outputId": "023d990b-e4e0-406d-ce88-d2ebd8a7b0f6"
      },
      "source": [
        "d1.values()"
      ],
      "execution_count": 69,
      "outputs": [
        {
          "output_type": "execute_result",
          "data": {
            "text/plain": [
              "dict_values(['gitam', 'hyderabad', '221710311033'])"
            ]
          },
          "metadata": {
            "tags": []
          },
          "execution_count": 69
        }
      ]
    },
    {
      "cell_type": "code",
      "metadata": {
        "id": "-EAjz9JPb1Et",
        "colab_type": "code",
        "colab": {
          "base_uri": "https://localhost:8080/",
          "height": 34
        },
        "outputId": "9812d6e1-f1cd-4331-fad7-2dd8a5235176"
      },
      "source": [
        "d1.keys()"
      ],
      "execution_count": 68,
      "outputs": [
        {
          "output_type": "execute_result",
          "data": {
            "text/plain": [
              "dict_keys(['name', 'address', 'roll_no'])"
            ]
          },
          "metadata": {
            "tags": []
          },
          "execution_count": 68
        }
      ]
    },
    {
      "cell_type": "markdown",
      "metadata": {
        "id": "sljh59bzcOop",
        "colab_type": "text"
      },
      "source": [
        "# STRings\n"
      ]
    },
    {
      "cell_type": "code",
      "metadata": {
        "id": "PShIA3LDc9aJ",
        "colab_type": "code",
        "colab": {
          "base_uri": "https://localhost:8080/",
          "height": 51
        },
        "outputId": "877f2598-5881-4239-9ee5-41bc7423d5a8"
      },
      "source": [
        "s1 = \"PYTHON\"\n",
        "print(s1)\n",
        "print(type(s1))"
      ],
      "execution_count": 75,
      "outputs": [
        {
          "output_type": "stream",
          "text": [
            "PYTHON\n",
            "<class 'str'>\n"
          ],
          "name": "stdout"
        }
      ]
    },
    {
      "cell_type": "code",
      "metadata": {
        "id": "NZ_pdCFkcS1N",
        "colab_type": "code",
        "colab": {
          "base_uri": "https://localhost:8080/",
          "height": 119
        },
        "outputId": "604211fb-19d6-4857-ab71-c21547501e14"
      },
      "source": [
        "S1  + \"PYTHON\"\n",
        "print(s1[0])\n",
        "print(s1[len(s1)-2])\n",
        "print(s1[1:-1])\n",
        "print(s1[len(s1)//2])\n",
        "print(s1[::3])\n",
        "print(S1[::-1])"
      ],
      "execution_count": 77,
      "outputs": [
        {
          "output_type": "stream",
          "text": [
            "P\n",
            "O\n",
            "YTHO\n",
            "H\n",
            "PH\n",
            "NOHTYP\n"
          ],
          "name": "stdout"
        }
      ]
    },
    {
      "cell_type": "markdown",
      "metadata": {
        "id": "2CEKIc7TdPxB",
        "colab_type": "text"
      },
      "source": [
        "# string Built in methods:\n",
        "\n",
        "- upper\n",
        "- lower\n",
        "- islower\n",
        "- isupper\n",
        "- istitle\n",
        "- isnumeric\n",
        "- isalpha\n",
        "- isspace\n"
      ]
    },
    {
      "cell_type": "code",
      "metadata": {
        "id": "T5_PDXX0dd6R",
        "colab_type": "code",
        "colab": {
          "base_uri": "https://localhost:8080/",
          "height": 153
        },
        "outputId": "e3a65939-9a13-4894-c570-4a3ddf0e886b"
      },
      "source": [
        "s1= \"python\"\n",
        "print(s1.upper())\n",
        "print(s1.lower())\n",
        "print(s1.isupper())\n",
        "print(s1.islower())\n",
        "print(s1.istitle())\n",
        "print(s1.isnumeric())\n",
        "print(s1.isalpha())\n",
        "print(s1.isspace())"
      ],
      "execution_count": 90,
      "outputs": [
        {
          "output_type": "stream",
          "text": [
            "PYTHON\n",
            "python\n",
            "False\n",
            "True\n",
            "False\n",
            "False\n",
            "True\n",
            "False\n"
          ],
          "name": "stdout"
        }
      ]
    },
    {
      "cell_type": "code",
      "metadata": {
        "id": "2ZQ-cW99drUu",
        "colab_type": "code",
        "colab": {
          "base_uri": "https://localhost:8080/",
          "height": 34
        },
        "outputId": "03c116ef-645b-4b8e-9442-2d3d96a4381e"
      },
      "source": [
        "s1 = ' '\n",
        "print(s1.isspace())"
      ],
      "execution_count": 96,
      "outputs": [
        {
          "output_type": "stream",
          "text": [
            "True\n"
          ],
          "name": "stdout"
        }
      ]
    },
    {
      "cell_type": "markdown",
      "metadata": {
        "id": "3FujF4LKgDwk",
        "colab_type": "text"
      },
      "source": [
        "# string methods\n",
        "- join()\n",
        "- spilt()\n",
        "- repace()"
      ]
    },
    {
      "cell_type": "code",
      "metadata": {
        "id": "mVeRPg2agMSN",
        "colab_type": "code",
        "colab": {
          "base_uri": "https://localhost:8080/",
          "height": 34
        },
        "outputId": "280792b3-4431-4c34-b874-51226ec57a67"
      },
      "source": [
        "s1 = \"python\"\n",
        "print(\"*\".join(s1))"
      ],
      "execution_count": 97,
      "outputs": [
        {
          "output_type": "stream",
          "text": [
            "p*y*t*h*o*n\n"
          ],
          "name": "stdout"
        }
      ]
    },
    {
      "cell_type": "code",
      "metadata": {
        "id": "U3941lePgXQd",
        "colab_type": "code",
        "colab": {
          "base_uri": "https://localhost:8080/",
          "height": 34
        },
        "outputId": "c18f8303-a7b5-4ec9-be17-f4e7279a6335"
      },
      "source": [
        "s1 = \"python programming easy to learn\"\n",
        "print(s1.replace(\"ing\",\"gitam\"))"
      ],
      "execution_count": 99,
      "outputs": [
        {
          "output_type": "stream",
          "text": [
            "python programmgitam easy to learn\n"
          ],
          "name": "stdout"
        }
      ]
    },
    {
      "cell_type": "code",
      "metadata": {
        "id": "1yAnwlk4gmD1",
        "colab_type": "code",
        "colab": {}
      },
      "source": [
        ""
      ],
      "execution_count": 0,
      "outputs": []
    }
  ]
}